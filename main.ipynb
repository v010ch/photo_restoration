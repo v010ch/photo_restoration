{
 "cells": [
  {
   "cell_type": "code",
   "execution_count": 1,
   "id": "2acf69c4-2be5-47d0-9fbc-887a74601813",
   "metadata": {},
   "outputs": [],
   "source": [
    "from typing import Tuple\n",
    "\n",
    "import numpy as np\n",
    "from itertools import product\n",
    "import cv2"
   ]
  },
  {
   "cell_type": "code",
   "execution_count": null,
   "id": "112c6334-19b3-4189-9c73-7c9026d68317",
   "metadata": {},
   "outputs": [],
   "source": []
  },
  {
   "cell_type": "code",
   "execution_count": null,
   "id": "ed5e17e9-9cde-4327-ad7a-11572da1876d",
   "metadata": {},
   "outputs": [],
   "source": []
  },
  {
   "cell_type": "code",
   "execution_count": 2,
   "id": "6709f373-376a-4b97-8023-a8607c072ece",
   "metadata": {},
   "outputs": [],
   "source": [
    "#img = cv2.imread('P:\\\\DataScience\\\\\\photo_restoration\\\\data\\\\5.jpg')\n",
    "#img = cv2.imread('P:\\\\DataScience\\\\\\photo_restoration\\\\data\\\\12.webp')\n",
    "img = cv2.imread('P:\\\\DataScience\\\\\\photo_restoration\\\\data\\\\4.jpg', cv2.IMREAD_UNCHANGED)"
   ]
  },
  {
   "cell_type": "code",
   "execution_count": 3,
   "id": "195563df-8012-4a2c-86c3-de6ca1a1948f",
   "metadata": {},
   "outputs": [],
   "source": [
    "cv2.imshow('current image', img)\n",
    "cv2.waitKey(0)\n",
    "cv2.destroyAllWindows()"
   ]
  },
  {
   "cell_type": "code",
   "execution_count": null,
   "id": "41ecda36-7c39-4df5-a7b4-551a2aceedec",
   "metadata": {},
   "outputs": [],
   "source": []
  },
  {
   "cell_type": "code",
   "execution_count": null,
   "id": "0ee85345-0e34-435e-af16-8e584fd9bd9a",
   "metadata": {},
   "outputs": [],
   "source": []
  },
  {
   "cell_type": "code",
   "execution_count": null,
   "id": "79adf3ed-e781-468f-8946-af2bbfd8157f",
   "metadata": {},
   "outputs": [],
   "source": []
  },
  {
   "cell_type": "code",
   "execution_count": null,
   "id": "fe6a7e70-15e3-434b-9b97-f1edd70c5d11",
   "metadata": {},
   "outputs": [],
   "source": []
  }
 ],
 "metadata": {
  "kernelspec": {
   "display_name": "mot_blur",
   "language": "python",
   "name": "mot_blur"
  },
  "language_info": {
   "codemirror_mode": {
    "name": "ipython",
    "version": 3
   },
   "file_extension": ".py",
   "mimetype": "text/x-python",
   "name": "python",
   "nbconvert_exporter": "python",
   "pygments_lexer": "ipython3",
   "version": "3.12.6"
  }
 },
 "nbformat": 4,
 "nbformat_minor": 5
}
